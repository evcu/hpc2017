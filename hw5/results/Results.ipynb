{
 "cells": [
  {
   "cell_type": "markdown",
   "metadata": {},
   "source": [
    "### Mpi implementation of 1d_multi_grid\n",
    "------------\n",
    "- There was a very long queue at Stampede and therefore I was not able to run my weak scaling job in the `normal` queue. The algorithm scales pretty nicely. "
   ]
  },
  {
   "cell_type": "markdown",
   "metadata": {},
   "source": [
    "## Strong scaling\n",
    "I picked $N$ to be 2^28. I fixed the iteration at each coarsining level to be 5. In the lowest level we do 50 iteration of Jacobi smoothing. I fixed the overall iteration to be 10.\n"
   ]
  },
  {
   "cell_type": "code",
   "execution_count": 8,
   "metadata": {},
   "outputs": [
    {
     "name": "stdout",
     "output_type": "stream",
     "text": [
      "   #proces       Time\n",
      "0        4  24.166163\n",
      "1       16  10.347527\n",
      "2       32   5.137773\n",
      "3       64   2.492416\n",
      "4      128   1.168956\n",
      "5      256   0.503421\n"
     ]
    },
    {
     "data": {
      "image/png": "[encoded data removed]",
      "text/plain": [
       "<matplotlib.figure.Figure at 0x1087a9090>"
      ]
     },
     "metadata": {},
     "output_type": "display_data"
    }
   ],
   "source": [
    "%matplotlib inline  \n",
    "\n",
    "import pandas as pd\n",
    "\n",
    "with open('./strong.8481975.out','r') as f:\n",
    "    t = []\n",
    "    for l in f:\n",
    "        if l.startswith('Time elapsed '):\n",
    "            t.append(float(l.split()[3]))\n",
    "\n",
    "array=[4, 16, 32, 64, 128, 256]\n",
    "strong_ideal = [t[0]*4/i for i in array]\n",
    "\n",
    "table = pd.DataFrame(\n",
    "    {\n",
    "    '#proces': array,\n",
    "    'Time': t,\n",
    "    })\n",
    "print table\n",
    "\n",
    "from matplotlib import pyplot as plt\n",
    "plt.plot(array,t,label='Multigrid MPI')\n",
    "plt.plot(array,strong_ideal,label='Ideal scaling')\n",
    "plt.xlabel('#process')\n",
    "plt.ylabel('Time')\n",
    "plt.title('Strong scaling N=2^28')\n",
    "plt.xscale('log')\n",
    "plt.yscale('log')\n",
    "plt.legend(loc=2)\n",
    "plt.show()"
   ]
  },
  {
   "cell_type": "markdown",
   "metadata": {},
   "source": [
    "## Weak Scaling\n",
    "I've chosen the same iterations at coarsining levels(5) and the lowest level(50) and had 10 iteration of multi-grid smoothing. Each process had 2^22 numbers and therefore 21 levels. "
   ]
  },
  {
   "cell_type": "code",
   "execution_count": 5,
   "metadata": {},
   "outputs": [
    {
     "name": "stdout",
     "output_type": "stream",
     "text": [
      "   #proces       Time\n",
      "0        2   4.261006\n",
      "1        4   5.760734\n",
      "2        8  10.245365\n",
      "3       16  10.314167\n",
      "4       32  10.400776\n",
      "5       64  10.422988\n"
     ]
    },
    {
     "data": {
      "image/png": "[encoded data removed]",
      "text/plain": [
       "<matplotlib.figure.Figure at 0x106ef38d0>"
      ]
     },
     "metadata": {},
     "output_type": "display_data"
    }
   ],
   "source": [
    "%matplotlib inline  \n",
    "\n",
    "import pandas as pd\n",
    "\n",
    "with open('./weak.8469933.out','r') as f:\n",
    "    t = []\n",
    "    for l in f:\n",
    "        if l.startswith('Time elapsed '):\n",
    "            t.append(float(l.split()[3]))\n",
    "\n",
    "array=[2,4,8,16, 32, 64]\n",
    "\n",
    "table = pd.DataFrame(\n",
    "    {\n",
    "    '#proces': array,\n",
    "    'Time': t,\n",
    "    })\n",
    "print table\n",
    "\n",
    "from matplotlib import pyplot as plt\n",
    "plt.plot(array,t,label='Multigrid MPI')\n",
    "plt.xlabel('#process')\n",
    "plt.ylabel('Time')\n",
    "plt.title('Weak scaling pN=2^22 per process')\n",
    "plt.xscale('log')\n",
    "plt.yscale('log')\n",
    "plt.legend(loc=2)\n",
    "plt.show()"
   ]
  }
 ],
 "metadata": {
  "anaconda-cloud": {},
  "kernelspec": {
   "display_name": "Python [conda root]",
   "language": "python",
   "name": "conda-root-py"
  },
  "language_info": {
   "codemirror_mode": {
    "name": "ipython",
    "version": 2
   },
   "file_extension": ".py",
   "mimetype": "text/x-python",
   "name": "python",
   "nbconvert_exporter": "python",
   "pygments_lexer": "ipython2",
   "version": "2.7.12"
  }
 },
 "nbformat": 4,
 "nbformat_minor": 1
}
